{
 "cells": [
  {
   "cell_type": "code",
   "execution_count": 2,
   "metadata": {},
   "outputs": [],
   "source": [
    "import pandas as pd             # data package\n",
    "import matplotlib.pyplot as plt # graphics \n",
    "import datetime as dt\n",
    "import numpy as np\n",
    "from census import Census # This is new...\n",
    "\n",
    "import requests, io             # internet and input tools  \n",
    "import zipfile as zf            # zip file tools \n",
    "import os  \n",
    "\n",
    "#import weightedcalcs as wc\n",
    "#import numpy as np\n",
    "\n",
    "import pyarrow as pa\n",
    "import pyarrow.parquet as pq\n"
   ]
  },
  {
   "cell_type": "code",
   "execution_count": 31,
   "metadata": {},
   "outputs": [],
   "source": [
    "eu_list = pd.read_csv('./data/eu-list.csv', dtype={'CTY_CODE': str})"
   ]
  },
  {
   "cell_type": "code",
   "execution_count": 32,
   "metadata": {},
   "outputs": [
    {
     "name": "stdout",
     "output_type": "stream",
     "text": [
      "<Response [200]>\n"
     ]
    }
   ],
   "source": [
    "my_key = \"&key=34e40301bda77077e24c859c6c6c0b721ad73fc7\"\n",
    "\n",
    "end_use = \"naics?get=CON_VAL_MO,CTY_CODE,CTY_NAME,SUMMARY_LVL\"\n",
    "\n",
    "url = \"https://api.census.gov/data/timeseries/intltrade/imports/\" + end_use \n",
    "url = url + my_key + \"&time==from+2013-01\"\n",
    "\n",
    "r = requests.get(url) \n",
    "    \n",
    "print(r)\n",
    "    \n",
    "df = pd.DataFrame(r.json()[1:]) # This then converts it to a dataframe\n",
    "    # Note that the first entry is the labels\n",
    "\n",
    "df.columns = r.json()[0]\n",
    "\n",
    "df[\"total_imports\"] = df[\"CON_VAL_MO\"].astype(float)\n",
    "\n",
    "df = df[df.SUMMARY_LVL == \"DET\"]\n",
    "\n",
    "grp = df.groupby([\"CTY_NAME\"])\n",
    "\n",
    "top_products = grp.agg({\"total_imports\":\"sum\",\"CTY_CODE\":\"first\"})\n",
    "\n",
    "top_products.sort_values(by = \"total_imports\", ascending = False, inplace = True)\n"
   ]
  },
  {
   "cell_type": "code",
   "execution_count": 37,
   "metadata": {},
   "outputs": [],
   "source": [
    "not_eu = top_products[\"CTY_CODE\"].isin(eu_list[\"CTY_CODE\"].tolist()) == False\n",
    "\n",
    "final_list = top_products.loc[not_eu, :].copy(deep=True)\n",
    "\n",
    "final_list = final_list.drop(index=final_list.index[0])\n",
    "\n",
    "final_list.reset_index(inplace=True)"
   ]
  },
  {
   "cell_type": "code",
   "execution_count": 39,
   "metadata": {},
   "outputs": [],
   "source": [
    "final_list.iloc[0:50].to_csv(\"./data/top_50_non_eu.csv\", index=False)"
   ]
  },
  {
   "cell_type": "code",
   "execution_count": 38,
   "metadata": {},
   "outputs": [
    {
     "data": {
      "text/html": [
       "<div>\n",
       "<style scoped>\n",
       "    .dataframe tbody tr th:only-of-type {\n",
       "        vertical-align: middle;\n",
       "    }\n",
       "\n",
       "    .dataframe tbody tr th {\n",
       "        vertical-align: top;\n",
       "    }\n",
       "\n",
       "    .dataframe thead th {\n",
       "        text-align: right;\n",
       "    }\n",
       "</style>\n",
       "<table border=\"1\" class=\"dataframe\">\n",
       "  <thead>\n",
       "    <tr style=\"text-align: right;\">\n",
       "      <th></th>\n",
       "      <th>CTY_NAME</th>\n",
       "      <th>total_imports</th>\n",
       "      <th>CTY_CODE</th>\n",
       "    </tr>\n",
       "  </thead>\n",
       "  <tbody>\n",
       "    <tr>\n",
       "      <th>0</th>\n",
       "      <td>CHINA</td>\n",
       "      <td>5.728638e+12</td>\n",
       "      <td>5700</td>\n",
       "    </tr>\n",
       "    <tr>\n",
       "      <th>1</th>\n",
       "      <td>MEXICO</td>\n",
       "      <td>4.385957e+12</td>\n",
       "      <td>2010</td>\n",
       "    </tr>\n",
       "    <tr>\n",
       "      <th>2</th>\n",
       "      <td>CANADA</td>\n",
       "      <td>4.161438e+12</td>\n",
       "      <td>1220</td>\n",
       "    </tr>\n",
       "    <tr>\n",
       "      <th>3</th>\n",
       "      <td>JAPAN</td>\n",
       "      <td>1.701399e+12</td>\n",
       "      <td>5880</td>\n",
       "    </tr>\n",
       "    <tr>\n",
       "      <th>4</th>\n",
       "      <td>KOREA, SOUTH</td>\n",
       "      <td>1.045098e+12</td>\n",
       "      <td>5800</td>\n",
       "    </tr>\n",
       "  </tbody>\n",
       "</table>\n",
       "</div>"
      ],
      "text/plain": [
       "       CTY_NAME  total_imports CTY_CODE\n",
       "0         CHINA   5.728638e+12     5700\n",
       "1        MEXICO   4.385957e+12     2010\n",
       "2        CANADA   4.161438e+12     1220\n",
       "3         JAPAN   1.701399e+12     5880\n",
       "4  KOREA, SOUTH   1.045098e+12     5800"
      ]
     },
     "execution_count": 38,
     "metadata": {},
     "output_type": "execute_result"
    }
   ],
   "source": [
    "final_list.head()"
   ]
  },
  {
   "cell_type": "code",
   "execution_count": null,
   "metadata": {},
   "outputs": [],
   "source": []
  }
 ],
 "metadata": {
  "kernelspec": {
   "display_name": "base",
   "language": "python",
   "name": "python3"
  },
  "language_info": {
   "codemirror_mode": {
    "name": "ipython",
    "version": 3
   },
   "file_extension": ".py",
   "mimetype": "text/x-python",
   "name": "python",
   "nbconvert_exporter": "python",
   "pygments_lexer": "ipython3",
   "version": "3.7.3"
  }
 },
 "nbformat": 4,
 "nbformat_minor": 4
}
